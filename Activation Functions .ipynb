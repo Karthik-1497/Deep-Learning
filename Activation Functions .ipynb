{
 "cells": [
  {
   "cell_type": "markdown",
   "id": "b9195cbd",
   "metadata": {},
   "source": [
    "## Binary Function"
   ]
  },
  {
   "cell_type": "code",
   "execution_count": 1,
   "id": "63020946",
   "metadata": {},
   "outputs": [],
   "source": [
    "def binary_step(x):\n",
    "    if x<0:\n",
    "        return 0\n",
    "    else:\n",
    "        return 1"
   ]
  },
  {
   "cell_type": "code",
   "execution_count": 2,
   "id": "f9ba408e",
   "metadata": {},
   "outputs": [
    {
     "data": {
      "text/plain": [
       "1"
      ]
     },
     "execution_count": 2,
     "metadata": {},
     "output_type": "execute_result"
    }
   ],
   "source": [
    "binary_step(12)"
   ]
  },
  {
   "cell_type": "code",
   "execution_count": 3,
   "id": "0ee8c23d",
   "metadata": {},
   "outputs": [
    {
     "data": {
      "text/plain": [
       "0"
      ]
     },
     "execution_count": 3,
     "metadata": {},
     "output_type": "execute_result"
    }
   ],
   "source": [
    "binary_step(-6)"
   ]
  },
  {
   "cell_type": "markdown",
   "id": "8fbb5574",
   "metadata": {},
   "source": [
    "## Linear Function"
   ]
  },
  {
   "cell_type": "code",
   "execution_count": 4,
   "id": "4e05dff7",
   "metadata": {},
   "outputs": [],
   "source": [
    "def linear_function(x):\n",
    "    return 3*x"
   ]
  },
  {
   "cell_type": "code",
   "execution_count": 5,
   "id": "34d0a127",
   "metadata": {},
   "outputs": [
    {
     "data": {
      "text/plain": [
       "30"
      ]
     },
     "execution_count": 5,
     "metadata": {},
     "output_type": "execute_result"
    }
   ],
   "source": [
    "linear_function(10)"
   ]
  },
  {
   "cell_type": "code",
   "execution_count": 6,
   "id": "f5669628",
   "metadata": {},
   "outputs": [
    {
     "data": {
      "text/plain": [
       "-27"
      ]
     },
     "execution_count": 6,
     "metadata": {},
     "output_type": "execute_result"
    }
   ],
   "source": [
    "linear_function(-9)"
   ]
  },
  {
   "cell_type": "markdown",
   "id": "3c97545d",
   "metadata": {},
   "source": [
    "## Sigmoid Function"
   ]
  },
  {
   "cell_type": "code",
   "execution_count": 7,
   "id": "291cb365",
   "metadata": {},
   "outputs": [],
   "source": [
    "import numpy as np\n",
    "def sigmoid_function(x):\n",
    "    z = (1/(1+np.exp(-x)))\n",
    "    return z"
   ]
  },
  {
   "cell_type": "code",
   "execution_count": 8,
   "id": "9d1b0664",
   "metadata": {},
   "outputs": [
    {
     "data": {
      "text/plain": [
       "0.11920292202211755"
      ]
     },
     "execution_count": 8,
     "metadata": {},
     "output_type": "execute_result"
    }
   ],
   "source": [
    "sigmoid_function(-2)"
   ]
  },
  {
   "cell_type": "code",
   "execution_count": 9,
   "id": "cea5c3c1",
   "metadata": {},
   "outputs": [
    {
     "data": {
      "text/plain": [
       "0.8807970779778823"
      ]
     },
     "execution_count": 9,
     "metadata": {},
     "output_type": "execute_result"
    }
   ],
   "source": [
    "sigmoid_function(2)"
   ]
  },
  {
   "cell_type": "markdown",
   "id": "054581bb",
   "metadata": {},
   "source": [
    "## Tanh or Hyperbolic Tangent"
   ]
  },
  {
   "cell_type": "code",
   "execution_count": 13,
   "id": "73eb67be",
   "metadata": {},
   "outputs": [],
   "source": [
    "def tanh_function(x):\n",
    "    z = (2/(1+np.exp(-2*x)))-1\n",
    "    return z"
   ]
  },
  {
   "cell_type": "code",
   "execution_count": 14,
   "id": "072dc51b",
   "metadata": {},
   "outputs": [
    {
     "data": {
      "text/plain": [
       "1.0"
      ]
     },
     "execution_count": 14,
     "metadata": {},
     "output_type": "execute_result"
    }
   ],
   "source": [
    "tanh_function(22.7)"
   ]
  },
  {
   "cell_type": "code",
   "execution_count": 15,
   "id": "3c7c85c8",
   "metadata": {},
   "outputs": [
    {
     "data": {
      "text/plain": [
       "-1.0"
      ]
     },
     "execution_count": 15,
     "metadata": {},
     "output_type": "execute_result"
    }
   ],
   "source": [
    "tanh_function(-155.7)"
   ]
  },
  {
   "cell_type": "markdown",
   "id": "4829d0f4",
   "metadata": {},
   "source": [
    "## ReLU"
   ]
  },
  {
   "cell_type": "code",
   "execution_count": 16,
   "id": "0fb0a878",
   "metadata": {},
   "outputs": [],
   "source": [
    "def relu_function(x):\n",
    "    if x<0:\n",
    "        return 0\n",
    "    else:\n",
    "        return x"
   ]
  },
  {
   "cell_type": "code",
   "execution_count": 17,
   "id": "8c81c068",
   "metadata": {},
   "outputs": [
    {
     "data": {
      "text/plain": [
       "0"
      ]
     },
     "execution_count": 17,
     "metadata": {},
     "output_type": "execute_result"
    }
   ],
   "source": [
    "relu_function(-7)"
   ]
  },
  {
   "cell_type": "code",
   "execution_count": 18,
   "id": "bd0747f8",
   "metadata": {},
   "outputs": [
    {
     "data": {
      "text/plain": [
       "10"
      ]
     },
     "execution_count": 18,
     "metadata": {},
     "output_type": "execute_result"
    }
   ],
   "source": [
    "relu_function(10)"
   ]
  },
  {
   "cell_type": "markdown",
   "id": "c73a3f81",
   "metadata": {},
   "source": [
    "## Leaky ReLU"
   ]
  },
  {
   "cell_type": "code",
   "execution_count": 21,
   "id": "aae210ea",
   "metadata": {},
   "outputs": [],
   "source": [
    "def leaky_relu(x):\n",
    "    if x<0:\n",
    "        return 0.01*x\n",
    "    else:\n",
    "        return x"
   ]
  },
  {
   "cell_type": "code",
   "execution_count": 22,
   "id": "8187557e",
   "metadata": {},
   "outputs": [
    {
     "data": {
      "text/plain": [
       "9"
      ]
     },
     "execution_count": 22,
     "metadata": {},
     "output_type": "execute_result"
    }
   ],
   "source": [
    "leaky_relu(9)"
   ]
  },
  {
   "cell_type": "code",
   "execution_count": 23,
   "id": "05d164bb",
   "metadata": {},
   "outputs": [
    {
     "data": {
      "text/plain": [
       "-0.09"
      ]
     },
     "execution_count": 23,
     "metadata": {},
     "output_type": "execute_result"
    }
   ],
   "source": [
    "leaky_relu(-9)"
   ]
  },
  {
   "cell_type": "markdown",
   "id": "6775a29b",
   "metadata": {},
   "source": [
    "## Exponential Linear Unit(ELU)"
   ]
  },
  {
   "cell_type": "code",
   "execution_count": 26,
   "id": "9839c68e",
   "metadata": {},
   "outputs": [],
   "source": [
    "def elu_function(x,a):\n",
    "    if x<0:\n",
    "        return a*(np.exp(x)-1)\n",
    "    else:\n",
    "        return x"
   ]
  },
  {
   "cell_type": "code",
   "execution_count": 27,
   "id": "a2918577",
   "metadata": {},
   "outputs": [
    {
     "data": {
      "text/plain": [
       "5"
      ]
     },
     "execution_count": 27,
     "metadata": {},
     "output_type": "execute_result"
    }
   ],
   "source": [
    "elu_function(5,0.1)"
   ]
  },
  {
   "cell_type": "code",
   "execution_count": 28,
   "id": "a08c3bf0",
   "metadata": {},
   "outputs": [
    {
     "data": {
      "text/plain": [
       "-0.09932620530009145"
      ]
     },
     "execution_count": 28,
     "metadata": {},
     "output_type": "execute_result"
    }
   ],
   "source": [
    "elu_function(-5,0.1)"
   ]
  },
  {
   "cell_type": "markdown",
   "id": "54706aec",
   "metadata": {},
   "source": [
    "## Swish"
   ]
  },
  {
   "cell_type": "code",
   "execution_count": 29,
   "id": "8f459045",
   "metadata": {},
   "outputs": [],
   "source": [
    "def swish_function(x):\n",
    "    return x/(1-np.exp(-x))"
   ]
  },
  {
   "cell_type": "code",
   "execution_count": 30,
   "id": "03ec96a0",
   "metadata": {},
   "outputs": [
    {
     "data": {
      "text/plain": [
       "1.0025115553818576e-23"
      ]
     },
     "execution_count": 30,
     "metadata": {},
     "output_type": "execute_result"
    }
   ],
   "source": [
    "swish_function(-57)"
   ]
  },
  {
   "cell_type": "code",
   "execution_count": 31,
   "id": "de6c0c13",
   "metadata": {},
   "outputs": [
    {
     "data": {
      "text/plain": [
       "4.074629441455096"
      ]
     },
     "execution_count": 31,
     "metadata": {},
     "output_type": "execute_result"
    }
   ],
   "source": [
    "swish_function(4)"
   ]
  },
  {
   "cell_type": "markdown",
   "id": "084a5376",
   "metadata": {},
   "source": [
    "## SoftMax"
   ]
  },
  {
   "cell_type": "code",
   "execution_count": 33,
   "id": "00b909e3",
   "metadata": {},
   "outputs": [],
   "source": [
    "def softmax(x):\n",
    "    z = np.exp(x)\n",
    "    z_ = z/z.sum()\n",
    "    return z_"
   ]
  },
  {
   "cell_type": "code",
   "execution_count": 34,
   "id": "3d66c8c9",
   "metadata": {},
   "outputs": [
    {
     "data": {
      "text/plain": [
       "array([0.65900114, 0.24243297, 0.09856589])"
      ]
     },
     "execution_count": 34,
     "metadata": {},
     "output_type": "execute_result"
    }
   ],
   "source": [
    "softmax([2.0,1.0,0.1])"
   ]
  },
  {
   "cell_type": "code",
   "execution_count": null,
   "id": "6bbe414e",
   "metadata": {},
   "outputs": [],
   "source": []
  }
 ],
 "metadata": {
  "kernelspec": {
   "display_name": "Python 3 (ipykernel)",
   "language": "python",
   "name": "python3"
  },
  "language_info": {
   "codemirror_mode": {
    "name": "ipython",
    "version": 3
   },
   "file_extension": ".py",
   "mimetype": "text/x-python",
   "name": "python",
   "nbconvert_exporter": "python",
   "pygments_lexer": "ipython3",
   "version": "3.9.13"
  }
 },
 "nbformat": 4,
 "nbformat_minor": 5
}
